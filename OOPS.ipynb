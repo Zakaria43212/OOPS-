{
  "nbformat": 4,
  "nbformat_minor": 0,
  "metadata": {
    "colab": {
      "provenance": []
    },
    "kernelspec": {
      "name": "python3",
      "display_name": "Python 3"
    },
    "language_info": {
      "name": "python"
    }
  },
  "cells": [
    {
      "cell_type": "markdown",
      "source": [
        "# **PYTHON OOPS (ASSIGNMENT)**"
      ],
      "metadata": {
        "id": "qx0vtJoQcqkZ"
      }
    },
    {
      "cell_type": "markdown",
      "source": [
        "# **THEORY QUESTION**"
      ],
      "metadata": {
        "id": "YN56ibVUctsA"
      }
    },
    {
      "cell_type": "markdown",
      "source": [
        "**1. What is Object-Oriented Programming (OOP)?**\n",
        "\n",
        "** Answer:--** Object-Oriented Programming (OOP) is a programming paradigm that structures a program using classes and objects. It emphasizes concepts such as encapsulation, inheritance, abstraction, and polymorphism. OOP makes code more modular, reusable, and easier to maintain.\n",
        "\n",
        "**2. What is a class in OOP?**\n",
        "\n",
        "  **Answer:--** A class is a blueprint or template for creating objects. It defines the attributes (variables) and methods (functions) that the objects created from the class will have.\n",
        "\n",
        "**3. What is an object in OOP?**\n",
        "\n",
        "**Answer:--** An object is an instance of a class. It represents a real-world entity with specific data (attributes) and behaviors (methods). Multiple objects can be created from a single class.\n",
        "\n",
        "**4. What is the difference between abstraction and encapsulation?**\n",
        "\n",
        "**Answer:--** Abstraction is the concept of hiding complex implementation details and showing only the essential features to the user.\n",
        "\n",
        "Encapsulation is the technique of bundling data and methods that operate on the data into a single unit (class), and restricting access to some components using access modifiers like private.\n",
        "\n",
        "**5. What are dunder methods in Python?**\n",
        "\n",
        "**Answer:--** Dunder methods (short for double underscore) are special methods that begin and end with double underscores, like __init__, __str__, __add__. They allow Python objects to behave like built-in types and interact with operators and functions.\n",
        "\n",
        "**6. Explain the concept of inheritance in OOP.**\n",
        "\n",
        "**Answer:--** Inheritance is an OOP feature where a child class inherits properties and behaviors from a parent class. It promotes code reuse and allows a subclass to extend or modify the functionalities of the base class.\n",
        "\n",
        "**7. What is polymorphism in OOP?**\n",
        "\n",
        " **Answer:--** Polymorphism means the ability to take many forms. It allows the same method name to have different implementations depending on the object that is calling it, enabling flexible and reusable code.\n",
        "\n",
        "**8. How is encapsulation achieved in Python?**\n",
        "\n",
        "**Answer:--** Encapsulation in Python is achieved using private variables (prefixing with __) and creating getter and setter methods. This protects the internal state of an object and restricts direct access from outside the class.\n",
        "\n",
        "**9. What is a constructor in Python?**\n",
        "\n",
        "**Answer:--** A constructor is a special method named __init__ that is automatically called when a new object is created. It is used to initialize the object's attributes.\n",
        "\n",
        "**10. What are class and static methods in Python?**\n",
        "\n",
        "**Answer:--** Class methods are methods that take cls as the first parameter and are defined using the @classmethod decorator. They can access and modify class-level data.\n",
        "\n",
        "Static methods do not take self or cls as parameters. They are defined using @staticmethod and behave like regular functions inside a class.\n",
        "\n",
        "**11. What is method overloading in Python?**\n",
        "\n",
        "**Answer:--** Python does not support traditional method overloading (same method name with different parameters). However, similar behavior can be achieved using default arguments, *args, or **kwargs.\n",
        "\n",
        "**12. What is method overriding in OOP?**\n",
        "\n",
        "**Answer:--** Method overriding occurs when a child class provides a new implementation for a method that is already defined in the parent class. It allows customizing or extending behavior.\n",
        "\n",
        "**13. What is a property decorator in Python?**\n",
        "\n",
        "**Answer:--** The @property decorator in Python is used to define getter methods that can be accessed like attributes. It allows for controlled access to private variables.\n",
        "\n",
        "**14. Why is polymorphism important in OOP?**\n",
        "\n",
        "**Answer:--** Polymorphism enables functions and methods to work with objects of different classes that implement the same method name. It leads to flexibility, scalability, and extensibility in code.\n",
        "\n",
        "**15. What is an abstract class in Python?**\n",
        "\n",
        "**Answer:--** An abstract class is a class that cannot be instantiated directly. It is used to define a base class with abstract methods (declared but not implemented). You must use the abc module and @abstractmethod decorator.\n",
        "\n",
        "**16. What are the advantages of OOP?**\n",
        "\n",
        "**Answer:--**\n",
        "\n",
        "Modularity: Code is organized into classes.\n",
        "\n",
        "Reusability: Inheritance promotes reuse.\n",
        "\n",
        "Maintainability: Code is easier to debug and maintain.\n",
        "\n",
        "Scalability: Suitable for large projects.\n",
        "\n",
        "**17. What is the difference between a class variable and an instance variable?**\n",
        "\n",
        "**Answer:--**\n",
        "\n",
        "Class variable: Shared by all instances of the class.\n",
        "\n",
        "Instance variable: Unique to each object and defined inside the __init__ method.\n",
        "\n",
        "**18. What is multiple inheritance in Python?**\n",
        "\n",
        "**Answer:--**  Multiple inheritance allows a class to inherit from more than one parent class, gaining methods and properties from all. It can introduce complexity due to method resolution order (MRO).\n",
        "\n",
        "**19. Explain the purpose of __str__ and __repr__ methods in Python.**\n",
        "\n",
        "**Answer:--**\n",
        "\n",
        "__str__: Returns a readable string representation for users (used in print()).\n",
        "\n",
        "__repr__: Returns a developer-friendly representation, usually used for debugging.\n",
        "\n",
        "**20. What is the significance of the super() function in Python?**\n",
        "\n",
        "**Answer:--** super() is used to call methods from the parent class. It’s commonly used to extend the behavior of inherited methods, especially constructors.\n",
        "\n",
        "**21. What is the significance of the __del__ method in Python?**\n",
        "\n",
        "**Answer:--** The __del__ method is a destructor that is called when an object is about to be destroyed. It is used to release resources or perform clean-up tasks.\n",
        "\n",
        "**22. What is the difference between @staticmethod and @classmethod in Python?**\n",
        "\n",
        "**Answer:--**\n",
        "\n",
        "@staticmethod: No access to self or cls. Acts like a regular function inside a class.\n",
        "\n",
        "@classmethod: Receives cls and can modify class-level data.\n",
        "\n",
        "**23. How does polymorphism work in Python with inheritance?**\n",
        "\n",
        "**Answer:--** Polymorphism works by overriding methods in child classes. A function can call the same method on different objects, and the object decides which implementation to execute at runtime.\n",
        "\n",
        "**24. What is method chaining in Python OOP?**\n",
        "\n",
        "**Answer:--** Method chaining is when multiple methods are called in a single line, and each method returns self. Example:\n",
        "\n",
        "python\n",
        "Copy code\n",
        "obj.method1().method2().method3()\n",
        "\n",
        "**25. What is the purpose of the __call__ method in Python?**\n",
        "\n",
        "**Answer:--** The __call__ method allows an object to be called like a function. It enables objects to have function-like behavior.\n",
        "Example:\n",
        "\n",
        "python\n",
        "Copy code\n",
        "class MyClass:\n",
        "    def __call__(self):\n",
        "        print(\"Called like a function\")"
      ],
      "metadata": {
        "id": "g-iagqfgW7FG"
      }
    },
    {
      "cell_type": "markdown",
      "source": [
        "# **PRACTICAL QUESTION**"
      ],
      "metadata": {
        "id": "yZfGajr6W8Yd"
      }
    },
    {
      "cell_type": "markdown",
      "source": [
        "1. Create a parent class Animal with a method speak() that prints a generic message. Create a child class Dog that overrides the speak() method to print \"Bark!\"."
      ],
      "metadata": {
        "id": "2k4guze0eO4z"
      }
    },
    {
      "cell_type": "code",
      "source": [
        "class Animal:\n",
        "    def speak(self):\n",
        "        print(\"Animal makes a sound.\")\n",
        "\n",
        "class Dog(Animal):\n",
        "    def speak(self):\n",
        "        print(\"Bark!\")\n",
        "\n",
        "dog = Dog()\n",
        "dog.speak()\n"
      ],
      "metadata": {
        "colab": {
          "base_uri": "https://localhost:8080/"
        },
        "id": "cwsvFdw1d8ca",
        "outputId": "08bd1559-c14f-4c7b-9308-d96f784e6e71"
      },
      "execution_count": 1,
      "outputs": [
        {
          "output_type": "stream",
          "name": "stdout",
          "text": [
            "Bark!\n"
          ]
        }
      ]
    },
    {
      "cell_type": "markdown",
      "source": [
        "2. Write a program to create an abstract class Shape with a method area(). Derive classes Circle and Rectangle from it and implement the area() method in both."
      ],
      "metadata": {
        "id": "zzHUCYaTd8Q3"
      }
    },
    {
      "cell_type": "code",
      "source": [
        "from abc import ABC, abstractmethod\n",
        "import math\n",
        "\n",
        "class Shape(ABC):\n",
        "    @abstractmethod\n",
        "    def area(self):\n",
        "        pass\n",
        "\n",
        "class Circle(Shape):\n",
        "    def __init__(self, radius):\n",
        "        self.radius = radius\n",
        "\n",
        "    def area(self):\n",
        "        return math.pi * self.radius ** 2\n",
        "\n",
        "class Rectangle(Shape):\n",
        "    def __init__(self, width, height):\n",
        "        self.width = width\n",
        "        self.height = height\n",
        "\n",
        "    def area(self):\n",
        "        return self.width * self.height\n",
        "\n",
        "c = Circle(5)\n",
        "r = Rectangle(4, 6)\n",
        "print(c.area())\n",
        "print(r.area())\n"
      ],
      "metadata": {
        "colab": {
          "base_uri": "https://localhost:8080/"
        },
        "id": "PGWcPC89d8I7",
        "outputId": "3da2f25a-bd17-4f1e-d0a5-847da05f71f7"
      },
      "execution_count": 2,
      "outputs": [
        {
          "output_type": "stream",
          "name": "stdout",
          "text": [
            "78.53981633974483\n",
            "24\n"
          ]
        }
      ]
    },
    {
      "cell_type": "markdown",
      "source": [
        "3. Implement a multi-level inheritance scenario where a class Vehicle has an attribute type. Derive a class Car and further derive a class ElectricCar that adds a battery attribute."
      ],
      "metadata": {
        "id": "Ph_kJPzRd8Cu"
      }
    },
    {
      "cell_type": "code",
      "source": [
        "class Vehicle:\n",
        "    def __init__(self, type):\n",
        "        self.type = type\n",
        "\n",
        "class Car(Vehicle):\n",
        "    def __init__(self, type, brand):\n",
        "        super().__init__(type)\n",
        "        self.brand = brand\n",
        "\n",
        "class ElectricCar(Car):\n",
        "    def __init__(self, type, brand, battery):\n",
        "        super().__init__(type, brand)\n",
        "        self.battery = battery\n",
        "\n",
        "ecar = ElectricCar(\"Four-wheeler\", \"Tesla\", \"100 kWh\")\n",
        "print(ecar.type, ecar.brand, ecar.battery)\n"
      ],
      "metadata": {
        "colab": {
          "base_uri": "https://localhost:8080/"
        },
        "id": "P1R7saKpd79x",
        "outputId": "4de0a9b1-79e7-4445-bbb1-eba87333b4ae"
      },
      "execution_count": 3,
      "outputs": [
        {
          "output_type": "stream",
          "name": "stdout",
          "text": [
            "Four-wheeler Tesla 100 kWh\n"
          ]
        }
      ]
    },
    {
      "cell_type": "markdown",
      "source": [
        "4. Demonstrate polymorphism by creating a base class Bird with a method fly(). Create two derived classes Sparrow and Penguin that override the fly() method."
      ],
      "metadata": {
        "id": "OKsHxf_td74y"
      }
    },
    {
      "cell_type": "code",
      "source": [
        "class Bird:\n",
        "    def fly(self):\n",
        "        print(\"Bird is flying\")\n",
        "\n",
        "class Sparrow(Bird):\n",
        "    def fly(self):\n",
        "        print(\"Sparrow flies high\")\n",
        "\n",
        "class Penguin(Bird):\n",
        "    def fly(self):\n",
        "        print(\"Penguins can't fly\")\n",
        "\n",
        "birds = [Sparrow(), Penguin()]\n",
        "for bird in birds:\n",
        "    bird.fly()\n"
      ],
      "metadata": {
        "colab": {
          "base_uri": "https://localhost:8080/"
        },
        "id": "A1D6jnbFd70H",
        "outputId": "915b2e68-0054-4c38-ae75-f457ba471347"
      },
      "execution_count": 4,
      "outputs": [
        {
          "output_type": "stream",
          "name": "stdout",
          "text": [
            "Sparrow flies high\n",
            "Penguins can't fly\n"
          ]
        }
      ]
    },
    {
      "cell_type": "markdown",
      "source": [
        "5. Write a program to demonstrate encapsulation by creating a class BankAccount with private attributes balance and methods to deposit, withdraw, and check balance."
      ],
      "metadata": {
        "id": "JV-0-7ndd7vD"
      }
    },
    {
      "cell_type": "code",
      "source": [
        "class BankAccount:\n",
        "    def __init__(self, balance=0):\n",
        "        self.__balance = balance\n",
        "\n",
        "    def deposit(self, amount):\n",
        "        self.__balance += amount\n",
        "\n",
        "    def withdraw(self, amount):\n",
        "        if amount <= self.__balance:\n",
        "            self.__balance -= amount\n",
        "        else:\n",
        "            print(\"Insufficient balance\")\n",
        "\n",
        "    def get_balance(self):\n",
        "        return self.__balance\n",
        "\n",
        "acc = BankAccount()\n",
        "acc.deposit(500)\n",
        "acc.withdraw(200)\n",
        "print(acc.get_balance())\n"
      ],
      "metadata": {
        "colab": {
          "base_uri": "https://localhost:8080/"
        },
        "id": "ZQYUt0uad7ml",
        "outputId": "51761a9e-8e9e-402d-af30-451c7f6261c4"
      },
      "execution_count": 5,
      "outputs": [
        {
          "output_type": "stream",
          "name": "stdout",
          "text": [
            "300\n"
          ]
        }
      ]
    },
    {
      "cell_type": "markdown",
      "source": [
        "6. Demonstrate runtime polymorphism using a method play() in a base class Instrument. Derive classes Guitar and Piano that implement their own version of play()."
      ],
      "metadata": {
        "id": "ik5c2KD_d7ey"
      }
    },
    {
      "cell_type": "code",
      "source": [
        "class Instrument:\n",
        "    def play(self):\n",
        "        print(\"Playing an instrument\")\n",
        "\n",
        "class Guitar(Instrument):\n",
        "    def play(self):\n",
        "        print(\"Playing the guitar\")\n",
        "\n",
        "class Piano(Instrument):\n",
        "    def play(self):\n",
        "        print(\"Playing the piano\")\n",
        "\n",
        "for inst in [Guitar(), Piano()]:\n",
        "    inst.play()\n"
      ],
      "metadata": {
        "colab": {
          "base_uri": "https://localhost:8080/"
        },
        "id": "-erwQV0Fd7Y4",
        "outputId": "04e6af03-bad0-4a16-ebb1-9fb8ac9c91af"
      },
      "execution_count": 6,
      "outputs": [
        {
          "output_type": "stream",
          "name": "stdout",
          "text": [
            "Playing the guitar\n",
            "Playing the piano\n"
          ]
        }
      ]
    },
    {
      "cell_type": "markdown",
      "source": [
        "7. Create a class MathOperations with a class method add_numbers() to add two numbers and a static method subtract_numbers() to subtract two numbers."
      ],
      "metadata": {
        "id": "gZNV01yod7S0"
      }
    },
    {
      "cell_type": "code",
      "source": [
        "class MathOperations:\n",
        "    @classmethod\n",
        "    def add_numbers(cls, a, b):\n",
        "        return a + b\n",
        "\n",
        "    @staticmethod\n",
        "    def subtract_numbers(a, b):\n",
        "        return a - b\n",
        "\n",
        "print(MathOperations.add_numbers(3, 4))\n",
        "print(MathOperations.subtract_numbers(10, 5))\n"
      ],
      "metadata": {
        "colab": {
          "base_uri": "https://localhost:8080/"
        },
        "id": "062swFWzd7Lh",
        "outputId": "a90efb00-774a-4820-a673-44124f251cdd"
      },
      "execution_count": 7,
      "outputs": [
        {
          "output_type": "stream",
          "name": "stdout",
          "text": [
            "7\n",
            "5\n"
          ]
        }
      ]
    },
    {
      "cell_type": "markdown",
      "source": [
        "8. Implement a class Person with a class method to count the total number of persons created."
      ],
      "metadata": {
        "id": "9YwPGQbkd6_V"
      }
    },
    {
      "cell_type": "code",
      "source": [
        "class Person:\n",
        "    count = 0\n",
        "\n",
        "    def __init__(self):\n",
        "        Person.count += 1\n",
        "\n",
        "    @classmethod\n",
        "    def get_count(cls):\n",
        "        return cls.count\n",
        "\n",
        "p1 = Person()\n",
        "p2 = Person()\n",
        "print(Person.get_count())\n"
      ],
      "metadata": {
        "colab": {
          "base_uri": "https://localhost:8080/"
        },
        "id": "wbL6KhRid65n",
        "outputId": "78ef0816-4e1b-478d-831b-78fa4e5e773d"
      },
      "execution_count": 8,
      "outputs": [
        {
          "output_type": "stream",
          "name": "stdout",
          "text": [
            "2\n"
          ]
        }
      ]
    },
    {
      "cell_type": "markdown",
      "source": [
        "9. Write a class Fraction with attributes numerator and denominator. Override the str method to display the fraction as \"numerator/denominator\"."
      ],
      "metadata": {
        "id": "2Xi-reEMd6zH"
      }
    },
    {
      "cell_type": "code",
      "source": [
        "class Fraction:\n",
        "    def __init__(self, numerator, denominator):\n",
        "        self.numerator = numerator\n",
        "        self.denominator = denominator\n",
        "\n",
        "    def __str__(self):\n",
        "        return f\"{self.numerator}/{self.denominator}\"\n",
        "\n",
        "f = Fraction(3, 4)\n",
        "print(f)\n"
      ],
      "metadata": {
        "colab": {
          "base_uri": "https://localhost:8080/"
        },
        "id": "k9rOP7AMd6t2",
        "outputId": "451e32f2-a701-41e8-ab9f-95f565dcc6e8"
      },
      "execution_count": 9,
      "outputs": [
        {
          "output_type": "stream",
          "name": "stdout",
          "text": [
            "3/4\n"
          ]
        }
      ]
    },
    {
      "cell_type": "markdown",
      "source": [
        "10. Demonstrate operator overloading by creating a class Vector and overriding the add method to add two vectors."
      ],
      "metadata": {
        "id": "up4jUifmd6pk"
      }
    },
    {
      "cell_type": "code",
      "source": [
        "class Vector:\n",
        "    def __init__(self, x, y):\n",
        "        self.x = x\n",
        "        self.y = y\n",
        "\n",
        "    def __add__(self, other):\n",
        "        return Vector(self.x + other.x, self.y + other.y)\n",
        "\n",
        "    def __str__(self):\n",
        "        return f\"Vector({self.x}, {self.y})\"\n",
        "\n",
        "v1 = Vector(2, 3)\n",
        "v2 = Vector(4, 1)\n",
        "print(v1 + v2)\n"
      ],
      "metadata": {
        "colab": {
          "base_uri": "https://localhost:8080/"
        },
        "id": "T31GABstd6j9",
        "outputId": "21c686cd-516b-4950-cc2f-06a9f8a03ff3"
      },
      "execution_count": 10,
      "outputs": [
        {
          "output_type": "stream",
          "name": "stdout",
          "text": [
            "Vector(6, 4)\n"
          ]
        }
      ]
    },
    {
      "cell_type": "markdown",
      "source": [
        "11. Create a class Person with attributes name and age. Add a method greet() that prints \"Hello, my name is {name} and I am {age} years old.\""
      ],
      "metadata": {
        "id": "M-KTEHwwd6eX"
      }
    },
    {
      "cell_type": "code",
      "source": [
        "class Person:\n",
        "    def __init__(self, name, age):\n",
        "        self.name = name\n",
        "        self.age = age\n",
        "\n",
        "    def greet(self):\n",
        "        print(f\"Hello, my name is {self.name} and I am {self.age} years old.\")\n",
        "\n",
        "p = Person(\"Alice\", 25)\n",
        "p.greet()\n"
      ],
      "metadata": {
        "colab": {
          "base_uri": "https://localhost:8080/"
        },
        "id": "FBcI0U5Ld6Yy",
        "outputId": "e448b797-b273-434e-8421-2f869dc76f4b"
      },
      "execution_count": 11,
      "outputs": [
        {
          "output_type": "stream",
          "name": "stdout",
          "text": [
            "Hello, my name is Alice and I am 25 years old.\n"
          ]
        }
      ]
    },
    {
      "cell_type": "markdown",
      "source": [
        "12. Implement a class Student with attributes name and grades. Create a method average_grade() to compute the average of the grades."
      ],
      "metadata": {
        "id": "xq8sfStvd6TO"
      }
    },
    {
      "cell_type": "code",
      "source": [
        "class Student:\n",
        "    def __init__(self, name, grades):\n",
        "        self.name = name\n",
        "        self.grades = grades\n",
        "\n",
        "    def average_grade(self):\n",
        "        return sum(self.grades) / len(self.grades)\n",
        "\n",
        "s = Student(\"Tom\", [80, 90, 70])\n",
        "print(s.average_grade())\n"
      ],
      "metadata": {
        "colab": {
          "base_uri": "https://localhost:8080/"
        },
        "id": "wJHHuHg7d6N1",
        "outputId": "09511c2b-5f0b-4aee-ec23-879b7780d6ab"
      },
      "execution_count": 12,
      "outputs": [
        {
          "output_type": "stream",
          "name": "stdout",
          "text": [
            "80.0\n"
          ]
        }
      ]
    },
    {
      "cell_type": "markdown",
      "source": [
        "13. Create a class Rectangle with methods set_dimensions() to set the dimensions and area() to calculate the area."
      ],
      "metadata": {
        "id": "3iP0gnF9d6IA"
      }
    },
    {
      "cell_type": "code",
      "source": [
        "class Rectangle:\n",
        "    def set_dimensions(self, width, height):\n",
        "        self.width = width\n",
        "        self.height = height\n",
        "\n",
        "    def area(self):\n",
        "        return self.width * self.height\n",
        "\n",
        "r = Rectangle()\n",
        "r.set_dimensions(4, 5)\n",
        "print(r.area())\n"
      ],
      "metadata": {
        "colab": {
          "base_uri": "https://localhost:8080/"
        },
        "id": "65SDmf7td6Cq",
        "outputId": "32e7c792-14ce-4816-b15d-a962625fccf6"
      },
      "execution_count": 13,
      "outputs": [
        {
          "output_type": "stream",
          "name": "stdout",
          "text": [
            "20\n"
          ]
        }
      ]
    },
    {
      "cell_type": "markdown",
      "source": [
        "14. Create a class Employee with a method calculate_salary() that computes the salary based on hours worked and hourly rate. Create a derived class Manager that adds a bonus to the salary."
      ],
      "metadata": {
        "id": "wXIv5230d589"
      }
    },
    {
      "cell_type": "code",
      "source": [
        "class Employee:\n",
        "    def __init__(self, hours, rate):\n",
        "        self.hours = hours\n",
        "        self.rate = rate\n",
        "\n",
        "    def calculate_salary(self):\n",
        "        return self.hours * self.rate\n",
        "\n",
        "class Manager(Employee):\n",
        "    def __init__(self, hours, rate, bonus):\n",
        "        super().__init__(hours, rate)\n",
        "        self.bonus = bonus\n",
        "\n",
        "    def calculate_salary(self):\n",
        "        return super().calculate_salary() + self.bonus\n",
        "\n",
        "e = Manager(40, 20, 500)\n",
        "print(e.calculate_salary())\n"
      ],
      "metadata": {
        "colab": {
          "base_uri": "https://localhost:8080/"
        },
        "id": "gEVZ5TyYd53F",
        "outputId": "5d374716-7165-4d66-93e4-7da046ee9de5"
      },
      "execution_count": 14,
      "outputs": [
        {
          "output_type": "stream",
          "name": "stdout",
          "text": [
            "1300\n"
          ]
        }
      ]
    },
    {
      "cell_type": "markdown",
      "source": [
        "15. Create a class Product with attributes name, price, and quantity. Implement a method total_price() that calculates the total price of the product."
      ],
      "metadata": {
        "id": "Ks5B_dn4d5xA"
      }
    },
    {
      "cell_type": "code",
      "source": [
        "class Product:\n",
        "    def __init__(self, name, price, quantity):\n",
        "        self.name = name\n",
        "        self.price = price\n",
        "        self.quantity = quantity\n",
        "\n",
        "    def total_price(self):\n",
        "        return self.price * self.quantity\n",
        "\n",
        "p = Product(\"Laptop\", 50000, 2)\n",
        "print(f\"Total price: ₹{p.total_price()}\")\n"
      ],
      "metadata": {
        "colab": {
          "base_uri": "https://localhost:8080/"
        },
        "id": "93CfGlwDd5qg",
        "outputId": "592b91ab-956a-4560-f3bc-bef962b7d062"
      },
      "execution_count": 15,
      "outputs": [
        {
          "output_type": "stream",
          "name": "stdout",
          "text": [
            "Total price: ₹100000\n"
          ]
        }
      ]
    },
    {
      "cell_type": "markdown",
      "source": [
        "16. Create a class Animal with an abstract method sound(). Create two derived classes Cow and Sheep that implement the sound() method."
      ],
      "metadata": {
        "id": "WRX1fUtwd5jd"
      }
    },
    {
      "cell_type": "code",
      "source": [
        "from abc import ABC, abstractmethod\n",
        "\n",
        "class Animal(ABC):\n",
        "    @abstractmethod\n",
        "    def sound(self):\n",
        "        pass\n",
        "\n",
        "class Cow(Animal):\n",
        "    def sound(self):\n",
        "        print(\"Moo\")\n",
        "\n",
        "class Sheep(Animal):\n",
        "    def sound(self):\n",
        "        print(\"Baa\")\n",
        "\n",
        "c = Cow()\n",
        "s = Sheep()\n",
        "c.sound()\n",
        "s.sound()\n"
      ],
      "metadata": {
        "colab": {
          "base_uri": "https://localhost:8080/"
        },
        "id": "QWYwaL-9d5c9",
        "outputId": "609db22c-df2b-4dd8-d857-b2b2932e772e"
      },
      "execution_count": 16,
      "outputs": [
        {
          "output_type": "stream",
          "name": "stdout",
          "text": [
            "Moo\n",
            "Baa\n"
          ]
        }
      ]
    },
    {
      "cell_type": "markdown",
      "source": [
        "17. Create a class Book with attributes title, author, and year_published. Add a method get_book_info() that returns a formatted string with the book's details."
      ],
      "metadata": {
        "id": "N_pQ6_Bvd5Vl"
      }
    },
    {
      "cell_type": "code",
      "source": [
        "class Book:\n",
        "    def __init__(self, title, author, year_published):\n",
        "        self.title = title\n",
        "        self.author = author\n",
        "        self.year_published = year_published\n",
        "\n",
        "    def get_book_info(self):\n",
        "        return f\"'{self.title}' by {self.author}, published in {self.year_published}\"\n",
        "\n",
        "b = Book(\"The Alchemist\", \"Paulo Coelho\", 1988)\n",
        "print(b.get_book_info())\n"
      ],
      "metadata": {
        "colab": {
          "base_uri": "https://localhost:8080/"
        },
        "id": "9xE-bDOLd5O6",
        "outputId": "45f6b1f3-52d9-4942-d973-d9a0d806483c"
      },
      "execution_count": 17,
      "outputs": [
        {
          "output_type": "stream",
          "name": "stdout",
          "text": [
            "'The Alchemist' by Paulo Coelho, published in 1988\n"
          ]
        }
      ]
    },
    {
      "cell_type": "markdown",
      "source": [
        "18. Create a class House with attributes address and price. Create a derived class Mansion that adds an attribute number_of_rooms."
      ],
      "metadata": {
        "id": "o5uaaj3fd5IJ"
      }
    },
    {
      "cell_type": "code",
      "source": [
        "class House:\n",
        "    def __init__(self, address, price):\n",
        "        self.address = address\n",
        "        self.price = price\n",
        "\n",
        "class Mansion(House):\n",
        "    def __init__(self, address, price, number_of_rooms):\n",
        "        super().__init__(address, price)\n",
        "        self.number_of_rooms = number_of_rooms\n",
        "\n",
        "    def details(self):\n",
        "        return f\"Mansion at {self.address} costs ₹{self.price} and has {self.number_of_rooms} rooms.\"\n",
        "\n",
        "m = Mansion(\"Beverly Hills\", 50000000, 10)\n",
        "print(m.details())\n"
      ],
      "metadata": {
        "colab": {
          "base_uri": "https://localhost:8080/"
        },
        "id": "gRaacM6ed5By",
        "outputId": "7cb69f40-5a28-4ddd-8e03-90afc78a00ab"
      },
      "execution_count": 18,
      "outputs": [
        {
          "output_type": "stream",
          "name": "stdout",
          "text": [
            "Mansion at Beverly Hills costs ₹50000000 and has 10 rooms.\n"
          ]
        }
      ]
    }
  ]
}